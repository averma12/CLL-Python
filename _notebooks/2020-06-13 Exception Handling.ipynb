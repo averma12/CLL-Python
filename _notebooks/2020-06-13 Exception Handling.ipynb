{
 "cells": [
  {
   "cell_type": "markdown",
   "metadata": {},
   "source": [
    "#  \"Exceptions a deep dive\"\n",
    "toc: true\n",
    "badges: true\n",
    "comments: true\n",
    "categories: [jupyter]\n",
    "author: Abhinav Verma"
   ]
  },
  {
   "cell_type": "markdown",
   "metadata": {},
   "source": [
    "When you build a complex python pipeline or you deploy some python microservices in production , You need to make sure the code works perfectly. A small issue can bring all your efforts crashing down. A lot of times the error would be a simple syntax mistake which becomes easily apparent when the program runs in a few iterations. However there are many complicated errors that can arise. "
   ]
  },
  {
   "cell_type": "markdown",
   "metadata": {},
   "source": [
    "For example , suppose you are interacting with an external API, let's take twitter. You call the api to give you results pertaining to a particular query. You then proceed to store the average sentiment across the number of posts you see in a day for your query. This goes all smooth for a few days but then the topic dies on twitter as all things do and you don't see any post. However your pipeline still takes the average which means it expects a number of posts , your machine learning model expects some text to calculate the sentiment and at the end you multiply the total sentiment score divided by the number of posts. You are now __passing empty__ strings to your model and __dividing by zero__. Basically the system will crash. These issues are what's called exceptions ."
   ]
  },
  {
   "cell_type": "markdown",
   "metadata": {},
   "source": [
    "Now picture another scenario. Say you run a company like Zomato . I'm not going to tell you about zomato. You can check them out [here](https://www.zomato.com) . They also have an api through which you can get data of restaurants and reviews from their city [here](https://developers.zomato.com/documentation) . So now you have multiple developers hitting your API for the data and you've learnt from the mistakes and there isn't any exception like the one we encountered above. However now there is another unique situation. You can sometimes have too many calls and this is clogging your server. So you decide to get a bigger server or a cluster of servers but the popularity of your API means that the cost of maintenance is always high. So you decide to be a little creative. You bring out tiered plans. Based on how much people pay they are limited to extract that much data in a day. But when they exceed this amount you want to let them know that. So you raise and send an exception to them."
   ]
  },
  {
   "cell_type": "markdown",
   "metadata": {},
   "source": [
    "The above scenario are 2 situations where understanding of exceptions is really important to know as a programmer. In the coming post we will discuss exceptions in detail . Exceptions are a type of object so the concept of classes and single level inheritance comes into play as well. You can check the earlier post on that although understanding exceptions through this post can give a deeper understanding of single inheritance so you can start either way. So without further ado let's start on exceptions"
   ]
  },
  {
   "cell_type": "markdown",
   "metadata": {},
   "source": [
    "# Handling Exceptions\n",
    "\n",
    "The first thing we'll look at is how to handle any exceptions that might arise in our code. There isn't any one elegant way of handling exception however a good practice is follows"
   ]
  },
  {
   "cell_type": "markdown",
   "metadata": {},
   "source": [
    "1. Initially handle the exception by wrapping the code in a try/except block catching the blanket exception.\n",
    "2. Once the exception is clear then we can proceed on handling the specific exception. This helps remove ambiguity from code as different errors need to be handled differently"
   ]
  },
  {
   "cell_type": "markdown",
   "metadata": {},
   "source": [
    "Let's look at some examples"
   ]
  },
  {
   "cell_type": "markdown",
   "metadata": {},
   "source": [
    "Let's start with some basic exception handling while reading lists and dictionaries"
   ]
  },
  {
   "cell_type": "code",
   "execution_count": 1,
   "metadata": {},
   "outputs": [
    {
     "ename": "IndexError",
     "evalue": "list index out of range",
     "output_type": "error",
     "traceback": [
      "\u001b[0;31m---------------------------------------------------------------------------\u001b[0m",
      "\u001b[0;31mIndexError\u001b[0m                                Traceback (most recent call last)",
      "\u001b[0;32m<ipython-input-1-2c562ebcc971>\u001b[0m in \u001b[0;36m<module>\u001b[0;34m\u001b[0m\n\u001b[1;32m      1\u001b[0m \u001b[0ml\u001b[0m \u001b[0;34m=\u001b[0m \u001b[0;34m[\u001b[0m\u001b[0;36m1\u001b[0m\u001b[0;34m,\u001b[0m \u001b[0;36m2\u001b[0m\u001b[0;34m,\u001b[0m \u001b[0;36m3\u001b[0m\u001b[0;34m]\u001b[0m\u001b[0;34m\u001b[0m\u001b[0;34m\u001b[0m\u001b[0m\n\u001b[0;32m----> 2\u001b[0;31m \u001b[0ml\u001b[0m\u001b[0;34m[\u001b[0m\u001b[0;36m4\u001b[0m\u001b[0;34m]\u001b[0m \u001b[0;31m#list only has 3 elements\u001b[0m\u001b[0;34m\u001b[0m\u001b[0;34m\u001b[0m\u001b[0m\n\u001b[0m",
      "\u001b[0;31mIndexError\u001b[0m: list index out of range"
     ]
    }
   ],
   "source": [
    "l = [1, 2, 3]\n",
    "l[4] #list only has 3 elements"
   ]
  },
  {
   "cell_type": "markdown",
   "metadata": {},
   "source": [
    "The exception thrown here is IndexError . So let's now handle the error via an exception"
   ]
  },
  {
   "cell_type": "code",
   "execution_count": 2,
   "metadata": {},
   "outputs": [
    {
     "name": "stdout",
     "output_type": "stream",
     "text": [
      "list index out of range\n"
     ]
    }
   ],
   "source": [
    "l = [1,2,3] # can declare this outside as its not something that causes errors\n",
    "try:\n",
    "    l[4]\n",
    "except IndexError as e: # its convention to alias any exception with e. In practice anything can be used\n",
    "    print(e)"
   ]
  },
  {
   "cell_type": "markdown",
   "metadata": {},
   "source": [
    "The message that gets printed is the error that proceeds the IndexError key above"
   ]
  },
  {
   "cell_type": "code",
   "execution_count": 4,
   "metadata": {},
   "outputs": [
    {
     "name": "stdout",
     "output_type": "stream",
     "text": [
      "0\n"
     ]
    }
   ],
   "source": [
    "l = [1,2,3] # can declare this outside as its not something that causes errors\n",
    "try:\n",
    "    l[4]\n",
    "except IndexError as e: \n",
    "    print(0)"
   ]
  },
  {
   "cell_type": "markdown",
   "metadata": {},
   "source": [
    "A quick aside. You can even handle exceptions using the bare except syntax"
   ]
  },
  {
   "cell_type": "code",
   "execution_count": 8,
   "metadata": {},
   "outputs": [
    {
     "name": "stdout",
     "output_type": "stream",
     "text": [
      "exception occurred\n"
     ]
    }
   ],
   "source": [
    "try:\n",
    "    1 / 0\n",
    "except:\n",
    "    print('exception occurred')"
   ]
  },
  {
   "cell_type": "markdown",
   "metadata": {},
   "source": [
    "In practice this doesn't help at all as in your pipeline you won't learn anything about your error"
   ]
  },
  {
   "cell_type": "markdown",
   "metadata": {},
   "source": [
    "Let's look at a dictionary and handle exceptions using that. The dictionary you will be seeing is a dictionary that's been scraped from amazon regarding a product. Web scraping is another topic in itself but reading a dictionary scraped from the internet is a really good real life example of how to handle errors while scraping So let's look at that"
   ]
  },
  {
   "cell_type": "code",
   "execution_count": null,
   "metadata": {},
   "outputs": [],
   "source": []
  }
 ],
 "metadata": {
  "kernelspec": {
   "display_name": "Python 3",
   "language": "python",
   "name": "python3"
  },
  "language_info": {
   "codemirror_mode": {
    "name": "ipython",
    "version": 3
   },
   "file_extension": ".py",
   "mimetype": "text/x-python",
   "name": "python",
   "nbconvert_exporter": "python",
   "pygments_lexer": "ipython3",
   "version": "3.7.1"
  },
  "toc": {
   "base_numbering": 1,
   "nav_menu": {},
   "number_sections": true,
   "sideBar": true,
   "skip_h1_title": false,
   "title_cell": "Table of Contents",
   "title_sidebar": "Contents",
   "toc_cell": false,
   "toc_position": {},
   "toc_section_display": true,
   "toc_window_display": false
  }
 },
 "nbformat": 4,
 "nbformat_minor": 2
}
